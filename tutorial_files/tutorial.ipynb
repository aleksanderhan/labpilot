{
 "cells": [
  {
   "attachments": {},
   "cell_type": "markdown",
   "id": "3b6bdfa8",
   "metadata": {},
   "source": [
    "* Use the `Refactor` button to interact with the active cell through special comments, `#@` and a LLM backend.\n",
    "* Use the `Debug` button to debug a cell with a error stacktrace and refactor it accordingly. Also takes special comments, `#@`\n",
    "* Use the `Explain` button to get an explantion of the code below the active cell. Also takes special comments into mind if you want to question a spesific line.\n",
    "* Use the `Undo` and `Redo` buttons to scroll trough previous states of the code."
   ]
  },
  {
   "attachments": {},
   "cell_type": "markdown",
   "id": "bb515b01",
   "metadata": {},
   "source": [
    "The following is a simple example of the special comment `#@` steering the LLM to produce whatever code you want. In this example a python function, `fibonacci`, has been defined, then follows 3 special comments\n",
    "describing what we want the LLM to write. Try activating the cell below by clicking on the cell, then click refactor and observe the code beeing written for you. Be patient while the code is written.\n",
    "\n",
    "If you experience any bugs, you can try again by clicking `Undo` to undo the action of the LLM. If you get a bug with an stacktrace, you can try the `Debug` feature, it will send the code with the output of the stacktrace to the LLM that will then try to fix you code."
   ]
  },
  {
   "cell_type": "code",
   "execution_count": null,
   "id": "7ee0ad66",
   "metadata": {},
   "outputs": [],
   "source": [
    "def fibonacci(n):\n",
    "  #@ return the n-th fibonacci number\n",
    "\n",
    "#@ write a story about the fibonacci sequence programatically where you use the previously defined function. The story should contain rabbits\n",
    "\n",
    "#@ call the story function"
   ]
  },
  {
   "attachments": {},
   "cell_type": "markdown",
   "id": "74160bc8",
   "metadata": {},
   "source": [
    "The following is a bit more complex task that gpt handles with ease usually. Below the code cell with the special comment is an example of an output. Try again if you want a different implementation by following the previous steps of activating the cell and clicking `Refactor`. When you have some code and want to understand it better you can get the LLM to explain the code by activating the cell with the code you want explained, then clicking `Explain`. Try it out on the cell with the `mandelbrot_set` function below with the question in the special comment. It should explain the `m[~m & diverge] = True` line. Be patient while the LLM writes the explanation."
   ]
  },
  {
   "cell_type": "code",
   "execution_count": null,
   "id": "b16f9725-5324-4e0d-b8ab-c831789abac1",
   "metadata": {},
   "outputs": [],
   "source": [
    "#@ write a function that calculates the mandlebrot set and plots the graph with matplotlib"
   ]
  },
  {
   "cell_type": "code",
   "execution_count": null,
   "id": "e9d07f93",
   "metadata": {},
   "outputs": [],
   "source": [
    "\n",
    "import numpy as np\n",
    "import matplotlib.pyplot as plt\n",
    "\n",
    "def mandelbrot_set(xmin: float, xmax: float, ymin: float, ymax:float, N=500, maxiter=250):\n",
    "    x, y = np.meshgrid(np.linspace(xmin, xmax, N), np.linspace(ymin, ymax, N))\n",
    "    c = x + 1j * y\n",
    "    z = c\n",
    "    div_time = maxiter + np.zeros(z.shape, dtype=int)\n",
    "    m = np.zeros(z.shape, dtype=bool)\n",
    "    for i in range(maxiter):\n",
    "        z = z ** 2 + c\n",
    "        diverge = z ** 2 > 2 ** 2  # Magnitude greater than 2\n",
    "        m[~m & diverge] = True  #@ What is happening on this line?\n",
    "        div_time[diverge & (div_time == maxiter)] = i  # Update iteration count for new divergences\n",
    "        z[diverge] = np.nan  # We could also replace diverging values of z with NaN\n",
    "    div_time[div_time == maxiter] = 0  # Set the iteration count for non-divergent cells to zero\n",
    "    plt.figure(figsize=(10, 10))\n",
    "    plt.imshow(div_time.T, cmap='binary', extent=(xmin, xmax, ymin, ymax))\n",
    "    plt.xlabel('Re')\n",
    "    plt.ylabel('Im')\n",
    "    plt.title(\"Mandelbrot set\")\n",
    "    plt.show()\n",
    "\n",
    "mandelbrot_set(-2, 0.5, -1.25, 1.25, N=1000, maxiter=250)\n"
   ]
  },
  {
   "attachments": {},
   "cell_type": "markdown",
   "id": "cd7ca817",
   "metadata": {},
   "source": [
    "The following is a few other toy examples to try:"
   ]
  },
  {
   "cell_type": "code",
   "execution_count": null,
   "id": "00d4a824",
   "metadata": {},
   "outputs": [],
   "source": [
    "#@ print ascii art of a horse"
   ]
  },
  {
   "cell_type": "code",
   "execution_count": null,
   "id": "e96cc3fc",
   "metadata": {},
   "outputs": [],
   "source": [
    "#@ Implement the Game of Life by John Conway and show each frame of the animation of the grid and the cells for 100 iterations at 1 iteration/sec.\n",
    "#@ Save the animation as a gif named game_of_life.gif\n",
    "#@ Display the gif file using IPython.display "
   ]
  },
  {
   "cell_type": "code",
   "execution_count": null,
   "id": "0c2670e6",
   "metadata": {},
   "outputs": [],
   "source": [
    "#@ solve the infinite well potential schrödinger equation numerically for a single electron and plot the wave function and the density of probability for a few energy levels."
   ]
  },
  {
   "cell_type": "code",
   "execution_count": null,
   "id": "3b6a6715",
   "metadata": {},
   "outputs": [],
   "source": [
    "#@ solve the following sodoku puzzle with a CSP solver you write.\n",
    "\n",
    "import numpy as np\n",
    "\n",
    "sudoku_puzzle = np.array([\n",
    "    [5, 3, 0, 0, 7, 0, 0, 0, 0],\n",
    "    [6, 0, 0, 1, 9, 5, 0, 0, 0],\n",
    "    [0, 9, 8, 0, 0, 0, 0, 6, 0],\n",
    "    [8, 0, 0, 0, 6, 0, 0, 0, 3],\n",
    "    [4, 0, 0, 8, 0, 3, 0, 0, 1],\n",
    "    [7, 0, 0, 0, 2, 0, 0, 0, 6],\n",
    "    [0, 6, 0, 0, 0, 0, 2, 8, 0],\n",
    "    [0, 0, 0, 4, 1, 9, 0, 0, 5],\n",
    "    [0, 0, 0, 0, 8, 0, 0, 7, 9]\n",
    "])"
   ]
  },
  {
   "cell_type": "code",
   "execution_count": null,
   "id": "e259c19c",
   "metadata": {},
   "outputs": [],
   "source": [
    "#@ Plot the map of the world in different projections using geopandas"
   ]
  },
  {
   "attachments": {},
   "cell_type": "markdown",
   "id": "d93eb375",
   "metadata": {},
   "source": [
    "The following example is a neat one. It shows the capabilities of a LLM to handle files with code. It usually displays a bug where the LLM has guessed the column which to plot, but it doesn't have any previous information about what column to plot. If you get this bug its the perfect time to test the `Debug` feature, since it will in most cases solve you problem in one shot, since when you click debug the code, togheter with any errors and output will be sendt to the LLM, after your run the cell it can read the columns from the output of the printing of the dataframe, it now has read the columns and knows what to plot."
   ]
  },
  {
   "cell_type": "code",
   "execution_count": null,
   "id": "a55dfe7e",
   "metadata": {},
   "outputs": [],
   "source": [
    "#@ I want to read the eth_price.csv file and import it into a pandas dataframe and print and plot the result"
   ]
  }
 ],
 "metadata": {
  "kernelspec": {
   "display_name": "Python 3 (ipykernel)",
   "language": "python",
   "name": "python3"
  },
  "language_info": {
   "codemirror_mode": {
    "name": "ipython",
    "version": 3
   },
   "file_extension": ".py",
   "mimetype": "text/x-python",
   "name": "python",
   "nbconvert_exporter": "python",
   "pygments_lexer": "ipython3",
   "version": "3.10.6"
  }
 },
 "nbformat": 4,
 "nbformat_minor": 5
}
